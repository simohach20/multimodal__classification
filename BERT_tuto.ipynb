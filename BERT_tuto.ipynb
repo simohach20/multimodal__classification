{
 "cells": [
  {
   "cell_type": "code",
   "execution_count": 1,
   "metadata": {
    "id": "o_XqHB-otfOH"
   },
   "outputs": [],
   "source": [
    "import os\n",
    "import pickle\n",
    "import yaml\n",
    "import numpy as np\n",
    "import matplotlib.pyplot as plt\n",
    "from pathlib import Path\n",
    "import pandas as pd\n",
    "\n",
    "import torch\n",
    "import torch.nn as nn"
   ]
  },
  {
   "cell_type": "code",
   "execution_count": 2,
   "metadata": {
    "id": "OWV9ptTk6KBH"
   },
   "outputs": [],
   "source": [
    "device = torch.device('cuda:0')"
   ]
  },
  {
   "cell_type": "code",
   "execution_count": 3,
   "metadata": {
    "id": "JXL0GogqUp73"
   },
   "outputs": [],
   "source": [
    "def load_pkl(filepath):\n",
    "    with Path(filepath).resolve().open('rb') as f:\n",
    "        obj = pickle.load(f)\n",
    "    return obj"
   ]
  },
  {
   "cell_type": "markdown",
   "metadata": {
    "id": "PoLxkgvCTnn9"
   },
   "source": [
    "## Data loading and exploration\n",
    "\n",
    "The first step to do is to load the data."
   ]
  },
  {
   "cell_type": "code",
   "execution_count": 4,
   "metadata": {
    "colab": {
     "base_uri": "https://localhost:8080/"
    },
    "id": "PN9cX0vmTccI",
    "outputId": "beeafdaf-9b86-407d-a2b4-9ff7d0460aa0"
   },
   "outputs": [
    {
     "name": "stdout",
     "output_type": "stream",
     "text": [
      "File ‘chanel_80cls_dataset.tar’ already there; not retrieving.\r\n",
      "\r\n"
     ]
    }
   ],
   "source": [
    "#download the data\n",
    "!wget -nc https://navee-ai-models.s3.eu-west-1.amazonaws.com/multimodal_learning/2022_04_19_chanel_80cls/chanel_80cls_dataset.tar\n",
    "!tar -xf chanel_80cls_dataset.tar --one-top-level\n",
    "dataset_path = \"chanel_80cls_dataset/dataset.pkl\""
   ]
  },
  {
   "cell_type": "markdown",
   "metadata": {
    "id": "k8IqWoxLWUhF"
   },
   "source": [
    "A sample data, called listing, is composed of all the information we gathered for a single post of a product. See the DataFrame below. For this notebook, we are particularly interested in the following fields:\n",
    "\n",
    "- `split`: This dataset is already split to train and test sets in a way to respect its unbalanced nature. So this field determins wether the data belongs to the train or test set.\n",
    "\n",
    "- `cls`: The label.\n",
    "\n",
    "- `id`: The if for the listings.\n",
    "\n",
    "- `name`: The name or title of the product set by its seller. This is the first text field we're interested in for the NLP task.\n",
    "\n",
    "-  `description`: Additionally to the `name`, some sellers go on and describe the product more in details. Thus this field also intrests us for the NLP task."
   ]
  },
  {
   "cell_type": "code",
   "execution_count": 23,
   "metadata": {
    "colab": {
     "base_uri": "https://localhost:8080/",
     "height": 744
    },
    "id": "2AY5zHI_TxBD",
    "outputId": "b87a2b1c-6ba7-4b64-99e8-e188db137507"
   },
   "outputs": [
    {
     "data": {
      "text/html": [
       "<div>\n",
       "<style scoped>\n",
       "    .dataframe tbody tr th:only-of-type {\n",
       "        vertical-align: middle;\n",
       "    }\n",
       "\n",
       "    .dataframe tbody tr th {\n",
       "        vertical-align: top;\n",
       "    }\n",
       "\n",
       "    .dataframe thead th {\n",
       "        text-align: right;\n",
       "    }\n",
       "</style>\n",
       "<table border=\"1\" class=\"dataframe\">\n",
       "  <thead>\n",
       "    <tr style=\"text-align: right;\">\n",
       "      <th></th>\n",
       "      <th>listing_id</th>\n",
       "      <th>local_id</th>\n",
       "      <th>imname</th>\n",
       "    </tr>\n",
       "  </thead>\n",
       "  <tbody>\n",
       "    <tr>\n",
       "      <th>0</th>\n",
       "      <td>9795</td>\n",
       "      <td>0</td>\n",
       "      <td>i000000_l009795_o000_jewellery---bracelets---c...</td>\n",
       "    </tr>\n",
       "    <tr>\n",
       "      <th>1</th>\n",
       "      <td>9795</td>\n",
       "      <td>1</td>\n",
       "      <td>i000001_l009795_o001_jewellery---bracelets---c...</td>\n",
       "    </tr>\n",
       "    <tr>\n",
       "      <th>2</th>\n",
       "      <td>9795</td>\n",
       "      <td>2</td>\n",
       "      <td>i000002_l009795_o002_jewellery---bracelets---c...</td>\n",
       "    </tr>\n",
       "    <tr>\n",
       "      <th>3</th>\n",
       "      <td>9795</td>\n",
       "      <td>3</td>\n",
       "      <td>i000003_l009795_o003_jewellery---bracelets---c...</td>\n",
       "    </tr>\n",
       "    <tr>\n",
       "      <th>4</th>\n",
       "      <td>6649</td>\n",
       "      <td>0</td>\n",
       "      <td>i000004_l006649_o000_jewellery---bracelets---c...</td>\n",
       "    </tr>\n",
       "  </tbody>\n",
       "</table>\n",
       "</div>"
      ],
      "text/plain": [
       "   listing_id  local_id                                             imname\n",
       "0        9795         0  i000000_l009795_o000_jewellery---bracelets---c...\n",
       "1        9795         1  i000001_l009795_o001_jewellery---bracelets---c...\n",
       "2        9795         2  i000002_l009795_o002_jewellery---bracelets---c...\n",
       "3        9795         3  i000003_l009795_o003_jewellery---bracelets---c...\n",
       "4        6649         0  i000004_l006649_o000_jewellery---bracelets---c..."
      ]
     },
     "execution_count": 23,
     "metadata": {},
     "output_type": "execute_result"
    }
   ],
   "source": [
    "#load the data\n",
    "dataset = load_pkl(dataset_path)\n",
    "df_listings = pd.DataFrame.from_dict(dataset['listings'], orient='index')\n",
    "\n",
    "df_listings.head()"
   ]
  },
  {
   "cell_type": "code",
   "execution_count": 6,
   "metadata": {
    "colab": {
     "base_uri": "https://localhost:8080/",
     "height": 204
    },
    "id": "HwwaXUc3Vst0",
    "outputId": "5cd0be8b-f636-4b03-c0fc-37a167f5147e"
   },
   "outputs": [
    {
     "data": {
      "text/html": [
       "<div>\n",
       "<style scoped>\n",
       "    .dataframe tbody tr th:only-of-type {\n",
       "        vertical-align: middle;\n",
       "    }\n",
       "\n",
       "    .dataframe tbody tr th {\n",
       "        vertical-align: top;\n",
       "    }\n",
       "\n",
       "    .dataframe thead th {\n",
       "        text-align: right;\n",
       "    }\n",
       "</style>\n",
       "<table border=\"1\" class=\"dataframe\">\n",
       "  <thead>\n",
       "    <tr style=\"text-align: right;\">\n",
       "      <th></th>\n",
       "      <th>split</th>\n",
       "      <th>cls</th>\n",
       "      <th>id</th>\n",
       "      <th>name</th>\n",
       "      <th>description</th>\n",
       "    </tr>\n",
       "  </thead>\n",
       "  <tbody>\n",
       "    <tr>\n",
       "      <th>9795</th>\n",
       "      <td>train</td>\n",
       "      <td>jewellery---bracelets---coco_crush</td>\n",
       "      <td>9795</td>\n",
       "      <td>silver-metal-matelasse-chanel-bracelet-15891167</td>\n",
       "      <td>Chanel Mattalasse Chain Cuff Bracelet \\r\\n\\r\\n...</td>\n",
       "    </tr>\n",
       "    <tr>\n",
       "      <th>6649</th>\n",
       "      <td>train</td>\n",
       "      <td>jewellery---bracelets---coco_crush</td>\n",
       "      <td>6649</td>\n",
       "      <td>silver-white-gold-coco-crush-chanel-bracelet-1...</td>\n",
       "      <td>CHANEL COCO CRUSH line bracelet \\n A collectio...</td>\n",
       "    </tr>\n",
       "    <tr>\n",
       "      <th>9762</th>\n",
       "      <td>train</td>\n",
       "      <td>jewellery---bracelets---coco_crush</td>\n",
       "      <td>9762</td>\n",
       "      <td>white-gold-matelasse-chanel-bracelet-9613741</td>\n",
       "      <td>Chanel quilted bracelet in white gold and diam...</td>\n",
       "    </tr>\n",
       "    <tr>\n",
       "      <th>9775</th>\n",
       "      <td>train</td>\n",
       "      <td>jewellery---bracelets---coco_crush</td>\n",
       "      <td>9775</td>\n",
       "      <td>gold-yellow-gold-matelasse-chanel-bracelet-106...</td>\n",
       "      <td>DIAMOND BRACELET, 'MATELASSÉ, CHANEL \\n \\n Qui...</td>\n",
       "    </tr>\n",
       "    <tr>\n",
       "      <th>6659</th>\n",
       "      <td>train</td>\n",
       "      <td>jewellery---bracelets---coco_crush</td>\n",
       "      <td>6659</td>\n",
       "      <td>gold-yellow-gold-coco-crush-chanel-bracelet-15...</td>\n",
       "      <td>Chanel Coco Crush bracelet in size XS. Yellow ...</td>\n",
       "    </tr>\n",
       "  </tbody>\n",
       "</table>\n",
       "</div>"
      ],
      "text/plain": [
       "      split                                 cls    id  \\\n",
       "9795  train  jewellery---bracelets---coco_crush  9795   \n",
       "6649  train  jewellery---bracelets---coco_crush  6649   \n",
       "9762  train  jewellery---bracelets---coco_crush  9762   \n",
       "9775  train  jewellery---bracelets---coco_crush  9775   \n",
       "6659  train  jewellery---bracelets---coco_crush  6659   \n",
       "\n",
       "                                                   name  \\\n",
       "9795    silver-metal-matelasse-chanel-bracelet-15891167   \n",
       "6649  silver-white-gold-coco-crush-chanel-bracelet-1...   \n",
       "9762       white-gold-matelasse-chanel-bracelet-9613741   \n",
       "9775  gold-yellow-gold-matelasse-chanel-bracelet-106...   \n",
       "6659  gold-yellow-gold-coco-crush-chanel-bracelet-15...   \n",
       "\n",
       "                                            description  \n",
       "9795  Chanel Mattalasse Chain Cuff Bracelet \\r\\n\\r\\n...  \n",
       "6649  CHANEL COCO CRUSH line bracelet \\n A collectio...  \n",
       "9762  Chanel quilted bracelet in white gold and diam...  \n",
       "9775  DIAMOND BRACELET, 'MATELASSÉ, CHANEL \\n \\n Qui...  \n",
       "6659  Chanel Coco Crush bracelet in size XS. Yellow ...  "
      ]
     },
     "execution_count": 6,
     "metadata": {},
     "output_type": "execute_result"
    }
   ],
   "source": [
    "#Let's consider the only field we need\n",
    "df_text = df_listings[['split','cls','id','name','description']].copy()\n",
    "\n",
    "df_text.head()"
   ]
  },
  {
   "cell_type": "code",
   "execution_count": 7,
   "metadata": {
    "id": "GxZVMTY3ymOH"
   },
   "outputs": [],
   "source": [
    "#Make dict to make numerical labels easier\n",
    "labels = df_text['cls'].unique()\n",
    "labels_to_num = dict(zip(labels, range(len(labels))))\n",
    "num_to_labels = dict(zip(range(len(labels)), labels))\n",
    "\n",
    "#Apply on df\n",
    "df_text.loc[:,'cls'] = df_text['cls'].apply(lambda x: labels_to_num[x])"
   ]
  },
  {
   "cell_type": "markdown",
   "metadata": {
    "id": "VN7phKwcd9zs"
   },
   "source": [
    "Feel free to further develop this part to explore and understand better the data."
   ]
  },
  {
   "cell_type": "markdown",
   "metadata": {
    "id": "bnaYgcG6eVip"
   },
   "source": [
    "## Preprocessing\n",
    "\n",
    "Processing a text requires converting it to some numerical vector of features that we can feed to the model. To do so, the text is first tokenized. Tokenization is a way of separating a piece of text into smaller units called tokens. Tokens can be either words, characters, or subwords. The simplest thing would be to seperate words on spaces: \"I work at Navee.\" becomes [\"I\", \"work\", \"at\", \"Navee\", \".\"]. The preprocessing can continue to omit punctuations, lowercase, etc."
   ]
  },
  {
   "cell_type": "code",
   "execution_count": 8,
   "metadata": {
    "id": "VkZxBbcdsWWy"
   },
   "outputs": [],
   "source": [
    "#First let's replace the \"-\" in the names to spaces so the tokenizer doesn't take them into account\n",
    "df_text.loc[:,'name'] = [name.replace(\"-\", \" \") for name in df_text['name']]"
   ]
  },
  {
   "cell_type": "markdown",
   "metadata": {
    "id": "4v1GkEq1sW10"
   },
   "source": [
    "BERT uses WordPiece Model to perform tokeniztion. This approach adresses the problem of Out Of Vocavulary (OOV) words i.e. rare words that aren't found in the constructed vocubulary and thus that doen't have representations (feature vector). To do so, the words are divided into a limited set of common subword units (“wordpieces”) for both input and output. You might also notice some special tokens such as `[CLS]`: first token of a sequence (input to the transformer)."
   ]
  },
  {
   "cell_type": "code",
   "execution_count": 9,
   "metadata": {
    "colab": {
     "base_uri": "https://localhost:8080/",
     "height": 811
    },
    "id": "caPnc_8OnW4g",
    "outputId": "27007ce0-fb3c-4c03-b483-2911c94a3aba"
   },
   "outputs": [
    {
     "name": "stdout",
     "output_type": "stream",
     "text": [
      "Requirement already satisfied: transformers in /home/vlad/scratch/venvs/venv_pysys3.9.5_pytorch1.10.1/lib/python3.9/site-packages (4.18.0)\n",
      "Requirement already satisfied: regex!=2019.12.17 in /home/vlad/scratch/venvs/venv_pysys3.9.5_pytorch1.10.1/lib/python3.9/site-packages (from transformers) (2022.1.18)\n",
      "Requirement already satisfied: sacremoses in /home/vlad/scratch/venvs/venv_pysys3.9.5_pytorch1.10.1/lib/python3.9/site-packages (from transformers) (0.0.53)\n",
      "Requirement already satisfied: tokenizers!=0.11.3,<0.13,>=0.11.1 in /home/vlad/scratch/venvs/venv_pysys3.9.5_pytorch1.10.1/lib/python3.9/site-packages (from transformers) (0.12.1)\n",
      "Requirement already satisfied: tqdm>=4.27 in /home/vlad/scratch/venvs/venv_pysys3.9.5_pytorch1.10.1/lib/python3.9/site-packages (from transformers) (4.62.3)\n",
      "Requirement already satisfied: numpy>=1.17 in /home/vlad/scratch/venvs/venv_pysys3.9.5_pytorch1.10.1/lib/python3.9/site-packages (from transformers) (1.22.0)\n",
      "Requirement already satisfied: huggingface-hub<1.0,>=0.1.0 in /home/vlad/scratch/venvs/venv_pysys3.9.5_pytorch1.10.1/lib/python3.9/site-packages (from transformers) (0.5.1)\n",
      "Requirement already satisfied: requests in /home/vlad/scratch/venvs/venv_pysys3.9.5_pytorch1.10.1/lib/python3.9/site-packages (from transformers) (2.25.1)\n",
      "Requirement already satisfied: pyyaml>=5.1 in /home/vlad/scratch/venvs/venv_pysys3.9.5_pytorch1.10.1/lib/python3.9/site-packages (from transformers) (6.0)\n",
      "Requirement already satisfied: filelock in /home/vlad/scratch/venvs/venv_pysys3.9.5_pytorch1.10.1/lib/python3.9/site-packages (from transformers) (3.6.0)\n",
      "Requirement already satisfied: packaging>=20.0 in /home/vlad/scratch/venvs/venv_pysys3.9.5_pytorch1.10.1/lib/python3.9/site-packages (from transformers) (21.3)\n",
      "Requirement already satisfied: typing-extensions>=3.7.4.3 in /home/vlad/scratch/venvs/venv_pysys3.9.5_pytorch1.10.1/lib/python3.9/site-packages (from huggingface-hub<1.0,>=0.1.0->transformers) (4.0.1)\n",
      "Requirement already satisfied: pyparsing!=3.0.5,>=2.0.2 in /home/vlad/scratch/venvs/venv_pysys3.9.5_pytorch1.10.1/lib/python3.9/site-packages (from packaging>=20.0->transformers) (3.0.6)\n",
      "Requirement already satisfied: chardet<5,>=3.0.2 in /home/vlad/scratch/venvs/venv_pysys3.9.5_pytorch1.10.1/lib/python3.9/site-packages (from requests->transformers) (3.0.4)\n",
      "Requirement already satisfied: certifi>=2017.4.17 in /home/vlad/scratch/venvs/venv_pysys3.9.5_pytorch1.10.1/lib/python3.9/site-packages (from requests->transformers) (2021.10.8)\n",
      "Requirement already satisfied: urllib3<1.27,>=1.21.1 in /home/vlad/scratch/venvs/venv_pysys3.9.5_pytorch1.10.1/lib/python3.9/site-packages (from requests->transformers) (1.26.8)\n",
      "Requirement already satisfied: idna<3,>=2.5 in /home/vlad/scratch/venvs/venv_pysys3.9.5_pytorch1.10.1/lib/python3.9/site-packages (from requests->transformers) (2.10)\n",
      "Requirement already satisfied: six in /home/vlad/scratch/venvs/venv_pysys3.9.5_pytorch1.10.1/lib/python3.9/site-packages (from sacremoses->transformers) (1.16.0)\n",
      "Requirement already satisfied: click in /home/vlad/scratch/venvs/venv_pysys3.9.5_pytorch1.10.1/lib/python3.9/site-packages (from sacremoses->transformers) (8.0.3)\n",
      "Requirement already satisfied: joblib in /home/vlad/scratch/venvs/venv_pysys3.9.5_pytorch1.10.1/lib/python3.9/site-packages (from sacremoses->transformers) (1.1.0)\n",
      "Note: you may need to restart the kernel to use updated packages.\n"
     ]
    }
   ],
   "source": [
    "pip install transformers"
   ]
  },
  {
   "cell_type": "code",
   "execution_count": 10,
   "metadata": {
    "colab": {
     "base_uri": "https://localhost:8080/",
     "height": 145,
     "referenced_widgets": [
      "cf8508c9f5d6495dbdda2b992e858b1f",
      "9394fe92673941c08f47ae6b5d2d402c",
      "39f3eb2b0a7b47878a4cd7a3c1ffdb25",
      "cc596c9c9ebc4ac0ae1f656e668bd8c3",
      "3e9994f7e38f4ecca9e5097c9b2caae0",
      "c157fddd6572470695f3da36657a0878",
      "785358d955764182b94ee380d6f59013",
      "e0be00e0f45449febb0f261693350126",
      "699a6772ade74d50a353c11ad9d81442",
      "660b51698ea548948dd64c4ab3ba38dc",
      "3779800a54e4475ab6aa7b1497b9be3d",
      "e96eb6a10856440085cc09deff0e2001",
      "103232a330084058a4615595c7ff0bdf",
      "7be39a565a874692828aab2e71a7fed0",
      "6cba0fe9fb4642eaa40ca612cddbf112",
      "95b4f240453d4fdba6fdb345641e8c27",
      "f308c79fc8304dcd90db1caf54c72921",
      "5ebbf4c625ba4233a7cc42fc00243ed0",
      "9d8dfd2e2bf34ca4947f42e60979e970",
      "155d26790966411a9fcaa9cbb35d4314",
      "8c37f79376b1495b8947b00840711d4f",
      "100be051ea0545bab111718886c05ce6",
      "c5b7bf8433c14f4e80f657fb20f3e956",
      "f2356eff1d974c3caf3a71ed26e50f3d",
      "7cb7dc19a9754b0381197cb304bfffbd",
      "94ced9f460bd4f8fbb7d67ce2078fb21",
      "7403636acbda4d7e8b96236f2056d268",
      "95defc47523f46b5ac04076d0606cf09",
      "715725cbb4e44f38ab37a922b444d3c5",
      "34d44b879e7043cfb379a3500e28c3f5",
      "4db1706c2a374dd0981195bfa04b48f4",
      "a43ea4eaddec4d28869b3a075d24648a",
      "c7b4fc834cf54650b4853da81e302459",
      "4694f3981b7c4da0b97e0af9de6b1348",
      "ac5447245a104b84bee7842edb48f020",
      "1dc026cbdef24340a757cdfd496969a2",
      "f9d3e5db784d459da7ab21c364e12c88",
      "92d75148ae0a4dcfbcecb73adae05128",
      "7c38b1a7d57d401f99efbe4ad07b4750",
      "9ccaed0c33564a138157fb62b53f0e87",
      "39517382f54b4b1da9246c590feb4833",
      "87db2729d9634b6c8f55014de20f9689",
      "1efdfa2557ac4404b257760215bc8631",
      "34568611347c47e8b68d30a818809b8e"
     ]
    },
    "id": "2jTK0aGdnN0E",
    "outputId": "44ed9e77-b771-4d79-d352-4bac99049bbc"
   },
   "outputs": [
    {
     "data": {
      "application/vnd.jupyter.widget-view+json": {
       "model_id": "d2ac006327d14ef7adc222b8b780e2fa",
       "version_major": 2,
       "version_minor": 0
      },
      "text/plain": [
       "Downloading:   0%|          | 0.00/28.0 [00:00<?, ?B/s]"
      ]
     },
     "metadata": {},
     "output_type": "display_data"
    },
    {
     "data": {
      "application/vnd.jupyter.widget-view+json": {
       "model_id": "e9e669fd922a45989c688ce5d8b15bd7",
       "version_major": 2,
       "version_minor": 0
      },
      "text/plain": [
       "Downloading:   0%|          | 0.00/570 [00:00<?, ?B/s]"
      ]
     },
     "metadata": {},
     "output_type": "display_data"
    },
    {
     "data": {
      "application/vnd.jupyter.widget-view+json": {
       "model_id": "b4e0801018544265bc182f0a038c5e40",
       "version_major": 2,
       "version_minor": 0
      },
      "text/plain": [
       "Downloading:   0%|          | 0.00/226k [00:00<?, ?B/s]"
      ]
     },
     "metadata": {},
     "output_type": "display_data"
    },
    {
     "data": {
      "application/vnd.jupyter.widget-view+json": {
       "model_id": "0eaae92d245046e3be28eb696420121a",
       "version_major": 2,
       "version_minor": 0
      },
      "text/plain": [
       "Downloading:   0%|          | 0.00/455k [00:00<?, ?B/s]"
      ]
     },
     "metadata": {},
     "output_type": "display_data"
    }
   ],
   "source": [
    "from transformers import AutoTokenizer\n",
    "\n",
    "#Load the tokenizer used for bert0base-case model - You can choose other models\n",
    "tokenizer = AutoTokenizer.from_pretrained(\"bert-base-uncased\")"
   ]
  },
  {
   "cell_type": "code",
   "execution_count": 11,
   "metadata": {
    "colab": {
     "base_uri": "https://localhost:8080/"
    },
    "id": "bnsfvkvgoOiZ",
    "outputId": "c3ae6ba8-5760-4b3b-888e-5f38bfd1ffa1"
   },
   "outputs": [
    {
     "name": "stdout",
     "output_type": "stream",
     "text": [
      "Example text:  silver white gold coco crush chanel bracelet 15993451\n",
      "Input Ids:  tensor([[  101,  3165,  2317,  2751, 25033, 10188,  9212,  2884, 19688, 18914,\n",
      "          2683, 22022, 22203,   102,     0,     0,     0,     0,     0,     0,\n",
      "             0,     0,     0,     0,     0,     0,     0,     0,     0,     0,\n",
      "             0,     0,     0,     0,     0,     0,     0,     0,     0,     0,\n",
      "             0,     0,     0,     0,     0,     0,     0,     0,     0,     0,\n",
      "             0,     0,     0,     0,     0,     0,     0,     0,     0,     0,\n",
      "             0,     0,     0,     0]])\n",
      "Attention mak:  tensor([[1, 1, 1, 1, 1, 1, 1, 1, 1, 1, 1, 1, 1, 1, 0, 0, 0, 0, 0, 0, 0, 0, 0, 0,\n",
      "         0, 0, 0, 0, 0, 0, 0, 0, 0, 0, 0, 0, 0, 0, 0, 0, 0, 0, 0, 0, 0, 0, 0, 0,\n",
      "         0, 0, 0, 0, 0, 0, 0, 0, 0, 0, 0, 0, 0, 0, 0, 0]])\n",
      "Tokens example:  ['[CLS]', 'silver', 'white', 'gold', 'coco', 'crush', 'chan', '##el', 'bracelet', '159', '##9', '##34', '##51', '[SEP]', '[PAD]', '[PAD]', '[PAD]', '[PAD]', '[PAD]', '[PAD]', '[PAD]', '[PAD]', '[PAD]', '[PAD]', '[PAD]', '[PAD]', '[PAD]', '[PAD]', '[PAD]', '[PAD]', '[PAD]', '[PAD]', '[PAD]', '[PAD]', '[PAD]', '[PAD]', '[PAD]', '[PAD]', '[PAD]', '[PAD]', '[PAD]', '[PAD]', '[PAD]', '[PAD]', '[PAD]', '[PAD]', '[PAD]', '[PAD]', '[PAD]', '[PAD]', '[PAD]', '[PAD]', '[PAD]', '[PAD]', '[PAD]', '[PAD]', '[PAD]', '[PAD]', '[PAD]', '[PAD]', '[PAD]', '[PAD]', '[PAD]', '[PAD]']\n"
     ]
    }
   ],
   "source": [
    "#Let's test the tokenizer on an example\n",
    "text_example = df_text.iloc[1]['name']\n",
    "print(\"Example text: \", text_example)\n",
    "\n",
    "#Let's apply the tokenizer - Note that the parameteres are easily understood from the documentation\n",
    "input_ids, attention_mask = tokenizer(text_example, #text to tokenize\n",
    "          padding='max_length',  #The output of the tokenizer is a vector of fixed length equal to max_length. Sentences with less tokens are padded with 0\n",
    "          max_length=64,  \n",
    "          truncation=True, #Sentences with more tokens are truncated\n",
    "            return_tensors='pt', #The returned tensors are pytorch tensors\n",
    "         return_token_type_ids=False, \n",
    "         verbose=False).values()\n",
    "\n",
    "#Each token has an id that represents it\n",
    "#The input_ids is tensor containing the ids of the tokens for the given example\n",
    "print(\"Input Ids: \", input_ids)\n",
    "\n",
    "#The attention mask tells whether the entry is an actual token \"1\" or a padding \"0\"\n",
    "print(\"Attention mak: \", attention_mask)\n",
    "\n",
    "#Let's look at the sub-words i.e. the tokens\n",
    "tokens_example = tokenizer.convert_ids_to_tokens(input_ids[0])\n",
    "print(\"Tokens example: \", tokens_example)"
   ]
  },
  {
   "cell_type": "markdown",
   "metadata": {
    "id": "b2ypbMQ0t3qK"
   },
   "source": [
    "## Dataset\n",
    "Now that we have the tokenizer ready, let's build the dataset."
   ]
  },
  {
   "cell_type": "code",
   "execution_count": 12,
   "metadata": {
    "id": "YgBXSmtKohIq"
   },
   "outputs": [],
   "source": [
    "#This is one of many ways to build the dataset. Feel free to change it as it might suit you.\n",
    "\n",
    "class Dataset(torch.utils.data.Dataset):\n",
    "    \n",
    "    def __init__(self, df_text, tokenizer, split ='train', with_description = False):\n",
    "        \"\"\"\n",
    "        - df_text: dataframe containing the texts and labels\n",
    "        - tokenizer: the tokenizer to apply on text strings\n",
    "        - split: 'train' or 'test'\n",
    "        - with description: if True adds description to text\n",
    "        \"\"\"\n",
    "\n",
    "        self.df_text = df_text.loc[df_text['split'] == split] #select only data of split\n",
    "        \n",
    "        self.tokenizer = tokenizer\n",
    "\n",
    "        self.with_description = with_description\n",
    "        \n",
    "    def __len__(self):\n",
    "        return len(self.df_text)\n",
    "    \n",
    "    def __getitem__(self, ind):\n",
    "\n",
    "      text = self.df_text.iloc[ind]['name']\n",
    "\n",
    "      if self.with_description:\n",
    "        text += \" \" + self.df_text.iloc[ind]['name'] #add description if True\n",
    "        \n",
    "      input_ids, attention_mask = self.tokenizer(text).values()\n",
    "   \n",
    "      return {'input_ids': input_ids.squeeze(), 'attention_mask': attention_mask,  'label': self.df_text.iloc[ind]['cls']}"
   ]
  },
  {
   "cell_type": "markdown",
   "metadata": {
    "id": "YlD4Rl--YUOs"
   },
   "source": [
    "## BERT\n",
    "Transformers are networks based on attention mechanisms. In a nutshell, attention makes the transformer learn relations between words (tokens). Thus, the transformer will learn how much information a word *A* holds about another word *B* in a sentence.Bsic transformers include an encoder and a decoder. And the encoder is fed the entire sentence of words at once which is in contrast to RNN.\n",
    "\n",
    "BERT’s key technical innovation is applying the bidirectional training of Transformer. That is, the model receives a sentence with missing words. It tries to infer these missing words from their contexct. "
   ]
  },
  {
   "cell_type": "code",
   "execution_count": 13,
   "metadata": {
    "id": "HLDa1e4k2Mr_"
   },
   "outputs": [],
   "source": [
    "from transformers import BertModel\n",
    "\n",
    "class BerClassifier(nn.Module):\n",
    "\n",
    "  def __init__(self, nb_labels, pretrained_model = 'bert-base-cased'):\n",
    "    super(BerClassifier, self).__init__()\n",
    "\n",
    "    #Load Bert Model\n",
    "    self.bert = BertModel.from_pretrained(pretrained_model) \n",
    "\n",
    "    #Add MLP for classification\n",
    "    self.linear = nn.Linear(768, nb_labels)\n",
    "\n",
    "  def forward(self, input_ids, attention_mask):\n",
    "\n",
    "    #Extract the pooled output\n",
    "    _, pooled_output = self.bert(input_ids = input_ids, attention_mask = attention_mask, return_dict = False)\n",
    "\n",
    "    scores = self.linear(pooled_output)\n",
    "    y = nn.functional.softmax(scores, dim=1)\n",
    "\n",
    "    return y"
   ]
  },
  {
   "cell_type": "markdown",
   "metadata": {
    "id": "6K1lfmtHYjUr"
   },
   "source": [
    "## Finetuning"
   ]
  },
  {
   "cell_type": "code",
   "execution_count": 21,
   "metadata": {
    "colab": {
     "base_uri": "https://localhost:8080/"
    },
    "id": "HBTBV6GbRHWH",
    "outputId": "ae89567a-6976-4bb7-e037-dc6a42b776e3"
   },
   "outputs": [
    {
     "name": "stdout",
     "output_type": "stream",
     "text": [
      "Not running on colab, setting local path\n"
     ]
    }
   ],
   "source": [
    "import time\n",
    "try:\n",
    "    from google.colab import drive\n",
    "    drive.mount('/gdrive', force_remount = True) #Link our drive\n",
    "    MODELPATH = '/gdrive/My Drive/Projects/BERT/bertmodel_weights.pt'\n",
    "except ImportError:\n",
    "    COLAB = True\n",
    "    MODELPATH = './bertmodel_weights.pt'\n",
    "    print('Not running on colab, setting local path')"
   ]
  },
  {
   "cell_type": "code",
   "execution_count": 17,
   "metadata": {
    "id": "zO1WdonI5lfK"
   },
   "outputs": [],
   "source": [
    "def train_step(model, train_dataloader, criterion, optimizer):\n",
    "  train_loss = 0\n",
    "  train_acc = 0\n",
    "\n",
    "  for i, data in enumerate(train_dataloader):\n",
    "\n",
    "    model.zero_grad()\n",
    "\n",
    "    #Load tensors to GPU\n",
    "    input_ids = data['input_ids'].to(device)\n",
    "    attention_mask = data['attention_mask'].to(device)\n",
    "    label_true = data['label'].to(device)\n",
    "\n",
    "    #Forward pass\n",
    "    label_pred = model(input_ids, attention_mask)\n",
    "\n",
    "    #Compute batch loss\n",
    "    batch_loss = criterion(label_pred, label_true)\n",
    "\n",
    "    #Backpropagation\n",
    "    batch_loss.backward()\n",
    "    optimizer.step()\n",
    "\n",
    "    #COmpute metrics\n",
    "    train_loss += batch_loss.item()\n",
    "    train_acc += (label_pred.argmax(axis=1) == label_true).sum()\n",
    "\n",
    "  train_loss = train_loss/len(train_dataloader)\n",
    "  train_acc = train_acc/len(train_dataloader.dataset)\n",
    "  \n",
    "  print(f\"loss: {train_loss :.3f} - acc: {train_acc*100 :.2f}\")\n"
   ]
  },
  {
   "cell_type": "code",
   "execution_count": 18,
   "metadata": {
    "colab": {
     "base_uri": "https://localhost:8080/"
    },
    "id": "sdRWijPhX9Eu",
    "outputId": "d1f75ac4-78e2-48df-b8b6-aad88b6b8746"
   },
   "outputs": [
    {
     "data": {
      "application/vnd.jupyter.widget-view+json": {
       "model_id": "7d747ca92ec6426ca0ea6d2e7940bb65",
       "version_major": 2,
       "version_minor": 0
      },
      "text/plain": [
       "Downloading:   0%|          | 0.00/420M [00:00<?, ?B/s]"
      ]
     },
     "metadata": {},
     "output_type": "display_data"
    },
    {
     "name": "stderr",
     "output_type": "stream",
     "text": [
      "Some weights of the model checkpoint at bert-base-uncased were not used when initializing BertModel: ['cls.predictions.transform.dense.weight', 'cls.predictions.transform.dense.bias', 'cls.predictions.bias', 'cls.predictions.transform.LayerNorm.weight', 'cls.predictions.transform.LayerNorm.bias', 'cls.seq_relationship.bias', 'cls.seq_relationship.weight', 'cls.predictions.decoder.weight']\n",
      "- This IS expected if you are initializing BertModel from the checkpoint of a model trained on another task or with another architecture (e.g. initializing a BertForSequenceClassification model from a BertForPreTraining model).\n",
      "- This IS NOT expected if you are initializing BertModel from the checkpoint of a model that you expect to be exactly identical (initializing a BertForSequenceClassification model from a BertForSequenceClassification model).\n"
     ]
    }
   ],
   "source": [
    "#Set hyperparameters\n",
    "BATCH_SIZE = 32\n",
    "LEARNING_RATE = 1e-6\n",
    "EPOCHS = 30\n",
    "\n",
    "#Tokenizer\n",
    "tokenizer_ = lambda text: tokenizer(text, \n",
    "          padding='max_length',  \n",
    "          max_length=64,  \n",
    "          truncation=True, \n",
    "          return_tensors='pt', \n",
    "          return_token_type_ids=False,\n",
    "          verbose=False)\n",
    "\n",
    "#Create datasets\n",
    "train_dataset = Dataset(df_text, tokenizer_, 'train', with_description = True)\n",
    "train_dataloader = torch.utils.data.DataLoader(train_dataset, batch_size = BATCH_SIZE)\n",
    "\n",
    "#Intantiate model\n",
    "bertmodel = BerClassifier(len(labels), pretrained_model = 'bert-base-uncased')\n",
    "bertmodel = bertmodel.to(device)\n",
    "\n",
    "#Load model state from previous execution\n",
    "# bertmodel.load_state_dict(torch.load('/gdrive/My Drive/Projects/BERT/bertmodel_weights.pt'))\n",
    "\n",
    "criterion = nn.CrossEntropyLoss().cuda()\n",
    "\n",
    "optimizer = torch.optim.Adam(bertmodel.parameters(), lr = LEARNING_RATE)"
   ]
  },
  {
   "cell_type": "markdown",
   "metadata": {
    "id": "W4YvmZfhv_LR"
   },
   "source": [
    "Now that we have everytithing preped, we can easily finetune BERT.\n",
    "\n",
    "Since training takes some time and Colab might stop the execution at any moment, we can save the weights of the model to our drive at every interval of time during the training."
   ]
  },
  {
   "cell_type": "code",
   "execution_count": 22,
   "metadata": {
    "colab": {
     "base_uri": "https://localhost:8080/"
    },
    "id": "jFhHf_E47I_F",
    "outputId": "3e8f66f3-cf06-4d3a-effa-8c8421943bc3"
   },
   "outputs": [
    {
     "name": "stdout",
     "output_type": "stream",
     "text": [
      "Epoch: 0\n",
      "loss: 4.332 - acc: 13.68\n",
      "Epoch: 1\n",
      "loss: 4.323 - acc: 16.71\n",
      "Epoch: 2\n",
      "loss: 4.306 - acc: 17.51\n",
      "Epoch: 3\n",
      "loss: 4.291 - acc: 20.97\n",
      "Epoch: 4\n",
      "loss: 4.280 - acc: 22.06\n",
      "Epoch: 5\n",
      "loss: 4.272 - acc: 25.15\n",
      "Epoch: 6\n",
      "loss: 4.264 - acc: 25.53\n",
      "Epoch: 7\n",
      "loss: 4.255 - acc: 31.61\n",
      "Epoch: 8\n",
      "loss: 4.248 - acc: 34.40\n",
      "Epoch: 9\n",
      "loss: 4.238 - acc: 34.75\n",
      "Epoch: 10\n",
      "loss: 4.229 - acc: 36.56\n",
      "Epoch: 11\n",
      "loss: 4.219 - acc: 41.29\n",
      "Epoch: 12\n",
      "loss: 4.208 - acc: 43.75\n",
      "Epoch: 13\n",
      "loss: 4.198 - acc: 45.39\n",
      "Epoch: 14\n",
      "loss: 4.185 - acc: 45.81\n",
      "Epoch: 15\n",
      "loss: 4.171 - acc: 50.32\n",
      "Epoch: 16\n",
      "loss: 4.159 - acc: 51.18\n",
      "Epoch: 17\n",
      "loss: 4.144 - acc: 51.34\n",
      "Epoch: 18\n",
      "loss: 4.130 - acc: 50.38\n",
      "Epoch: 19\n",
      "loss: 4.120 - acc: 53.81\n",
      "Epoch: 20\n",
      "loss: 4.108 - acc: 53.46\n",
      "Epoch: 21\n",
      "loss: 4.099 - acc: 54.78\n",
      "Epoch: 22\n",
      "loss: 4.085 - acc: 51.95\n",
      "Epoch: 23\n",
      "loss: 4.071 - acc: 53.88\n",
      "Epoch: 24\n",
      "loss: 4.060 - acc: 57.10\n",
      "Epoch: 25\n",
      "loss: 4.052 - acc: 59.22\n",
      "Epoch: 26\n",
      "loss: 4.042 - acc: 58.85\n",
      "Epoch: 27\n",
      "loss: 4.035 - acc: 61.07\n",
      "Epoch: 28\n",
      "loss: 4.027 - acc: 61.16\n",
      "Epoch: 29\n",
      "loss: 4.024 - acc: 61.99\n"
     ]
    }
   ],
   "source": [
    "#Start counting\n",
    "start = time.time()\n",
    "\n",
    "for epoch in range(EPOCHS):\n",
    "\n",
    "  #Perform a training step\n",
    "  print(f\"Epoch: {epoch}\")\n",
    "  \n",
    "  train_step(bertmodel, train_dataloader, criterion, optimizer)\n",
    "\n",
    "  #Compute elapsed time and save model state if 1 minute passed\n",
    "  elapsed = time.time() - start\n",
    "\n",
    "  #Check wether the interval has passed. Here I have chosen the duration to be 1 minute.\n",
    "  if elapsed/60 > 1:\n",
    "    #Restart the timer\n",
    "    start  = time.time()  \n",
    "    #Save the model weights in Drive\n",
    "    torch.save(bertmodel.state_dict(), MODELPATH) "
   ]
  },
  {
   "cell_type": "code",
   "execution_count": null,
   "metadata": {},
   "outputs": [],
   "source": []
  }
 ],
 "metadata": {
  "accelerator": "GPU",
  "colab": {
   "collapsed_sections": [],
   "name": "BERT_tuto.ipynb",
   "provenance": []
  },
  "kernelspec": {
   "display_name": "Python 3 (ipykernel)",
   "language": "python",
   "name": "python3"
  },
  "language_info": {
   "codemirror_mode": {
    "name": "ipython",
    "version": 3
   },
   "file_extension": ".py",
   "mimetype": "text/x-python",
   "name": "python",
   "nbconvert_exporter": "python",
   "pygments_lexer": "ipython3",
   "version": "3.9.13"
  },
  "widgets": {
   "application/vnd.jupyter.widget-state+json": {
    "100be051ea0545bab111718886c05ce6": {
     "model_module": "@jupyter-widgets/controls",
     "model_module_version": "1.5.0",
     "model_name": "DescriptionStyleModel",
     "state": {
      "_model_module": "@jupyter-widgets/controls",
      "_model_module_version": "1.5.0",
      "_model_name": "DescriptionStyleModel",
      "_view_count": null,
      "_view_module": "@jupyter-widgets/base",
      "_view_module_version": "1.2.0",
      "_view_name": "StyleView",
      "description_width": ""
     }
    },
    "103232a330084058a4615595c7ff0bdf": {
     "model_module": "@jupyter-widgets/controls",
     "model_module_version": "1.5.0",
     "model_name": "HTMLModel",
     "state": {
      "_dom_classes": [],
      "_model_module": "@jupyter-widgets/controls",
      "_model_module_version": "1.5.0",
      "_model_name": "HTMLModel",
      "_view_count": null,
      "_view_module": "@jupyter-widgets/controls",
      "_view_module_version": "1.5.0",
      "_view_name": "HTMLView",
      "description": "",
      "description_tooltip": null,
      "layout": "IPY_MODEL_f308c79fc8304dcd90db1caf54c72921",
      "placeholder": "​",
      "style": "IPY_MODEL_5ebbf4c625ba4233a7cc42fc00243ed0",
      "value": "Downloading: 100%"
     }
    },
    "155d26790966411a9fcaa9cbb35d4314": {
     "model_module": "@jupyter-widgets/controls",
     "model_module_version": "1.5.0",
     "model_name": "ProgressStyleModel",
     "state": {
      "_model_module": "@jupyter-widgets/controls",
      "_model_module_version": "1.5.0",
      "_model_name": "ProgressStyleModel",
      "_view_count": null,
      "_view_module": "@jupyter-widgets/base",
      "_view_module_version": "1.2.0",
      "_view_name": "StyleView",
      "bar_color": null,
      "description_width": ""
     }
    },
    "1dc026cbdef24340a757cdfd496969a2": {
     "model_module": "@jupyter-widgets/controls",
     "model_module_version": "1.5.0",
     "model_name": "FloatProgressModel",
     "state": {
      "_dom_classes": [],
      "_model_module": "@jupyter-widgets/controls",
      "_model_module_version": "1.5.0",
      "_model_name": "FloatProgressModel",
      "_view_count": null,
      "_view_module": "@jupyter-widgets/controls",
      "_view_module_version": "1.5.0",
      "_view_name": "ProgressView",
      "bar_style": "success",
      "description": "",
      "description_tooltip": null,
      "layout": "IPY_MODEL_39517382f54b4b1da9246c590feb4833",
      "max": 466062,
      "min": 0,
      "orientation": "horizontal",
      "style": "IPY_MODEL_87db2729d9634b6c8f55014de20f9689",
      "value": 466062
     }
    },
    "1efdfa2557ac4404b257760215bc8631": {
     "model_module": "@jupyter-widgets/base",
     "model_module_version": "1.2.0",
     "model_name": "LayoutModel",
     "state": {
      "_model_module": "@jupyter-widgets/base",
      "_model_module_version": "1.2.0",
      "_model_name": "LayoutModel",
      "_view_count": null,
      "_view_module": "@jupyter-widgets/base",
      "_view_module_version": "1.2.0",
      "_view_name": "LayoutView",
      "align_content": null,
      "align_items": null,
      "align_self": null,
      "border": null,
      "bottom": null,
      "display": null,
      "flex": null,
      "flex_flow": null,
      "grid_area": null,
      "grid_auto_columns": null,
      "grid_auto_flow": null,
      "grid_auto_rows": null,
      "grid_column": null,
      "grid_gap": null,
      "grid_row": null,
      "grid_template_areas": null,
      "grid_template_columns": null,
      "grid_template_rows": null,
      "height": null,
      "justify_content": null,
      "justify_items": null,
      "left": null,
      "margin": null,
      "max_height": null,
      "max_width": null,
      "min_height": null,
      "min_width": null,
      "object_fit": null,
      "object_position": null,
      "order": null,
      "overflow": null,
      "overflow_x": null,
      "overflow_y": null,
      "padding": null,
      "right": null,
      "top": null,
      "visibility": null,
      "width": null
     }
    },
    "34568611347c47e8b68d30a818809b8e": {
     "model_module": "@jupyter-widgets/controls",
     "model_module_version": "1.5.0",
     "model_name": "DescriptionStyleModel",
     "state": {
      "_model_module": "@jupyter-widgets/controls",
      "_model_module_version": "1.5.0",
      "_model_name": "DescriptionStyleModel",
      "_view_count": null,
      "_view_module": "@jupyter-widgets/base",
      "_view_module_version": "1.2.0",
      "_view_name": "StyleView",
      "description_width": ""
     }
    },
    "34d44b879e7043cfb379a3500e28c3f5": {
     "model_module": "@jupyter-widgets/base",
     "model_module_version": "1.2.0",
     "model_name": "LayoutModel",
     "state": {
      "_model_module": "@jupyter-widgets/base",
      "_model_module_version": "1.2.0",
      "_model_name": "LayoutModel",
      "_view_count": null,
      "_view_module": "@jupyter-widgets/base",
      "_view_module_version": "1.2.0",
      "_view_name": "LayoutView",
      "align_content": null,
      "align_items": null,
      "align_self": null,
      "border": null,
      "bottom": null,
      "display": null,
      "flex": null,
      "flex_flow": null,
      "grid_area": null,
      "grid_auto_columns": null,
      "grid_auto_flow": null,
      "grid_auto_rows": null,
      "grid_column": null,
      "grid_gap": null,
      "grid_row": null,
      "grid_template_areas": null,
      "grid_template_columns": null,
      "grid_template_rows": null,
      "height": null,
      "justify_content": null,
      "justify_items": null,
      "left": null,
      "margin": null,
      "max_height": null,
      "max_width": null,
      "min_height": null,
      "min_width": null,
      "object_fit": null,
      "object_position": null,
      "order": null,
      "overflow": null,
      "overflow_x": null,
      "overflow_y": null,
      "padding": null,
      "right": null,
      "top": null,
      "visibility": null,
      "width": null
     }
    },
    "3779800a54e4475ab6aa7b1497b9be3d": {
     "model_module": "@jupyter-widgets/controls",
     "model_module_version": "1.5.0",
     "model_name": "DescriptionStyleModel",
     "state": {
      "_model_module": "@jupyter-widgets/controls",
      "_model_module_version": "1.5.0",
      "_model_name": "DescriptionStyleModel",
      "_view_count": null,
      "_view_module": "@jupyter-widgets/base",
      "_view_module_version": "1.2.0",
      "_view_name": "StyleView",
      "description_width": ""
     }
    },
    "39517382f54b4b1da9246c590feb4833": {
     "model_module": "@jupyter-widgets/base",
     "model_module_version": "1.2.0",
     "model_name": "LayoutModel",
     "state": {
      "_model_module": "@jupyter-widgets/base",
      "_model_module_version": "1.2.0",
      "_model_name": "LayoutModel",
      "_view_count": null,
      "_view_module": "@jupyter-widgets/base",
      "_view_module_version": "1.2.0",
      "_view_name": "LayoutView",
      "align_content": null,
      "align_items": null,
      "align_self": null,
      "border": null,
      "bottom": null,
      "display": null,
      "flex": null,
      "flex_flow": null,
      "grid_area": null,
      "grid_auto_columns": null,
      "grid_auto_flow": null,
      "grid_auto_rows": null,
      "grid_column": null,
      "grid_gap": null,
      "grid_row": null,
      "grid_template_areas": null,
      "grid_template_columns": null,
      "grid_template_rows": null,
      "height": null,
      "justify_content": null,
      "justify_items": null,
      "left": null,
      "margin": null,
      "max_height": null,
      "max_width": null,
      "min_height": null,
      "min_width": null,
      "object_fit": null,
      "object_position": null,
      "order": null,
      "overflow": null,
      "overflow_x": null,
      "overflow_y": null,
      "padding": null,
      "right": null,
      "top": null,
      "visibility": null,
      "width": null
     }
    },
    "39f3eb2b0a7b47878a4cd7a3c1ffdb25": {
     "model_module": "@jupyter-widgets/controls",
     "model_module_version": "1.5.0",
     "model_name": "FloatProgressModel",
     "state": {
      "_dom_classes": [],
      "_model_module": "@jupyter-widgets/controls",
      "_model_module_version": "1.5.0",
      "_model_name": "FloatProgressModel",
      "_view_count": null,
      "_view_module": "@jupyter-widgets/controls",
      "_view_module_version": "1.5.0",
      "_view_name": "ProgressView",
      "bar_style": "success",
      "description": "",
      "description_tooltip": null,
      "layout": "IPY_MODEL_e0be00e0f45449febb0f261693350126",
      "max": 28,
      "min": 0,
      "orientation": "horizontal",
      "style": "IPY_MODEL_699a6772ade74d50a353c11ad9d81442",
      "value": 28
     }
    },
    "3e9994f7e38f4ecca9e5097c9b2caae0": {
     "model_module": "@jupyter-widgets/base",
     "model_module_version": "1.2.0",
     "model_name": "LayoutModel",
     "state": {
      "_model_module": "@jupyter-widgets/base",
      "_model_module_version": "1.2.0",
      "_model_name": "LayoutModel",
      "_view_count": null,
      "_view_module": "@jupyter-widgets/base",
      "_view_module_version": "1.2.0",
      "_view_name": "LayoutView",
      "align_content": null,
      "align_items": null,
      "align_self": null,
      "border": null,
      "bottom": null,
      "display": null,
      "flex": null,
      "flex_flow": null,
      "grid_area": null,
      "grid_auto_columns": null,
      "grid_auto_flow": null,
      "grid_auto_rows": null,
      "grid_column": null,
      "grid_gap": null,
      "grid_row": null,
      "grid_template_areas": null,
      "grid_template_columns": null,
      "grid_template_rows": null,
      "height": null,
      "justify_content": null,
      "justify_items": null,
      "left": null,
      "margin": null,
      "max_height": null,
      "max_width": null,
      "min_height": null,
      "min_width": null,
      "object_fit": null,
      "object_position": null,
      "order": null,
      "overflow": null,
      "overflow_x": null,
      "overflow_y": null,
      "padding": null,
      "right": null,
      "top": null,
      "visibility": null,
      "width": null
     }
    },
    "4694f3981b7c4da0b97e0af9de6b1348": {
     "model_module": "@jupyter-widgets/controls",
     "model_module_version": "1.5.0",
     "model_name": "HBoxModel",
     "state": {
      "_dom_classes": [],
      "_model_module": "@jupyter-widgets/controls",
      "_model_module_version": "1.5.0",
      "_model_name": "HBoxModel",
      "_view_count": null,
      "_view_module": "@jupyter-widgets/controls",
      "_view_module_version": "1.5.0",
      "_view_name": "HBoxView",
      "box_style": "",
      "children": [
       "IPY_MODEL_ac5447245a104b84bee7842edb48f020",
       "IPY_MODEL_1dc026cbdef24340a757cdfd496969a2",
       "IPY_MODEL_f9d3e5db784d459da7ab21c364e12c88"
      ],
      "layout": "IPY_MODEL_92d75148ae0a4dcfbcecb73adae05128"
     }
    },
    "4db1706c2a374dd0981195bfa04b48f4": {
     "model_module": "@jupyter-widgets/controls",
     "model_module_version": "1.5.0",
     "model_name": "ProgressStyleModel",
     "state": {
      "_model_module": "@jupyter-widgets/controls",
      "_model_module_version": "1.5.0",
      "_model_name": "ProgressStyleModel",
      "_view_count": null,
      "_view_module": "@jupyter-widgets/base",
      "_view_module_version": "1.2.0",
      "_view_name": "StyleView",
      "bar_color": null,
      "description_width": ""
     }
    },
    "5ebbf4c625ba4233a7cc42fc00243ed0": {
     "model_module": "@jupyter-widgets/controls",
     "model_module_version": "1.5.0",
     "model_name": "DescriptionStyleModel",
     "state": {
      "_model_module": "@jupyter-widgets/controls",
      "_model_module_version": "1.5.0",
      "_model_name": "DescriptionStyleModel",
      "_view_count": null,
      "_view_module": "@jupyter-widgets/base",
      "_view_module_version": "1.2.0",
      "_view_name": "StyleView",
      "description_width": ""
     }
    },
    "660b51698ea548948dd64c4ab3ba38dc": {
     "model_module": "@jupyter-widgets/base",
     "model_module_version": "1.2.0",
     "model_name": "LayoutModel",
     "state": {
      "_model_module": "@jupyter-widgets/base",
      "_model_module_version": "1.2.0",
      "_model_name": "LayoutModel",
      "_view_count": null,
      "_view_module": "@jupyter-widgets/base",
      "_view_module_version": "1.2.0",
      "_view_name": "LayoutView",
      "align_content": null,
      "align_items": null,
      "align_self": null,
      "border": null,
      "bottom": null,
      "display": null,
      "flex": null,
      "flex_flow": null,
      "grid_area": null,
      "grid_auto_columns": null,
      "grid_auto_flow": null,
      "grid_auto_rows": null,
      "grid_column": null,
      "grid_gap": null,
      "grid_row": null,
      "grid_template_areas": null,
      "grid_template_columns": null,
      "grid_template_rows": null,
      "height": null,
      "justify_content": null,
      "justify_items": null,
      "left": null,
      "margin": null,
      "max_height": null,
      "max_width": null,
      "min_height": null,
      "min_width": null,
      "object_fit": null,
      "object_position": null,
      "order": null,
      "overflow": null,
      "overflow_x": null,
      "overflow_y": null,
      "padding": null,
      "right": null,
      "top": null,
      "visibility": null,
      "width": null
     }
    },
    "699a6772ade74d50a353c11ad9d81442": {
     "model_module": "@jupyter-widgets/controls",
     "model_module_version": "1.5.0",
     "model_name": "ProgressStyleModel",
     "state": {
      "_model_module": "@jupyter-widgets/controls",
      "_model_module_version": "1.5.0",
      "_model_name": "ProgressStyleModel",
      "_view_count": null,
      "_view_module": "@jupyter-widgets/base",
      "_view_module_version": "1.2.0",
      "_view_name": "StyleView",
      "bar_color": null,
      "description_width": ""
     }
    },
    "6cba0fe9fb4642eaa40ca612cddbf112": {
     "model_module": "@jupyter-widgets/controls",
     "model_module_version": "1.5.0",
     "model_name": "HTMLModel",
     "state": {
      "_dom_classes": [],
      "_model_module": "@jupyter-widgets/controls",
      "_model_module_version": "1.5.0",
      "_model_name": "HTMLModel",
      "_view_count": null,
      "_view_module": "@jupyter-widgets/controls",
      "_view_module_version": "1.5.0",
      "_view_name": "HTMLView",
      "description": "",
      "description_tooltip": null,
      "layout": "IPY_MODEL_8c37f79376b1495b8947b00840711d4f",
      "placeholder": "​",
      "style": "IPY_MODEL_100be051ea0545bab111718886c05ce6",
      "value": " 570/570 [00:00&lt;00:00, 19.8kB/s]"
     }
    },
    "715725cbb4e44f38ab37a922b444d3c5": {
     "model_module": "@jupyter-widgets/controls",
     "model_module_version": "1.5.0",
     "model_name": "DescriptionStyleModel",
     "state": {
      "_model_module": "@jupyter-widgets/controls",
      "_model_module_version": "1.5.0",
      "_model_name": "DescriptionStyleModel",
      "_view_count": null,
      "_view_module": "@jupyter-widgets/base",
      "_view_module_version": "1.2.0",
      "_view_name": "StyleView",
      "description_width": ""
     }
    },
    "7403636acbda4d7e8b96236f2056d268": {
     "model_module": "@jupyter-widgets/base",
     "model_module_version": "1.2.0",
     "model_name": "LayoutModel",
     "state": {
      "_model_module": "@jupyter-widgets/base",
      "_model_module_version": "1.2.0",
      "_model_name": "LayoutModel",
      "_view_count": null,
      "_view_module": "@jupyter-widgets/base",
      "_view_module_version": "1.2.0",
      "_view_name": "LayoutView",
      "align_content": null,
      "align_items": null,
      "align_self": null,
      "border": null,
      "bottom": null,
      "display": null,
      "flex": null,
      "flex_flow": null,
      "grid_area": null,
      "grid_auto_columns": null,
      "grid_auto_flow": null,
      "grid_auto_rows": null,
      "grid_column": null,
      "grid_gap": null,
      "grid_row": null,
      "grid_template_areas": null,
      "grid_template_columns": null,
      "grid_template_rows": null,
      "height": null,
      "justify_content": null,
      "justify_items": null,
      "left": null,
      "margin": null,
      "max_height": null,
      "max_width": null,
      "min_height": null,
      "min_width": null,
      "object_fit": null,
      "object_position": null,
      "order": null,
      "overflow": null,
      "overflow_x": null,
      "overflow_y": null,
      "padding": null,
      "right": null,
      "top": null,
      "visibility": null,
      "width": null
     }
    },
    "785358d955764182b94ee380d6f59013": {
     "model_module": "@jupyter-widgets/controls",
     "model_module_version": "1.5.0",
     "model_name": "DescriptionStyleModel",
     "state": {
      "_model_module": "@jupyter-widgets/controls",
      "_model_module_version": "1.5.0",
      "_model_name": "DescriptionStyleModel",
      "_view_count": null,
      "_view_module": "@jupyter-widgets/base",
      "_view_module_version": "1.2.0",
      "_view_name": "StyleView",
      "description_width": ""
     }
    },
    "7be39a565a874692828aab2e71a7fed0": {
     "model_module": "@jupyter-widgets/controls",
     "model_module_version": "1.5.0",
     "model_name": "FloatProgressModel",
     "state": {
      "_dom_classes": [],
      "_model_module": "@jupyter-widgets/controls",
      "_model_module_version": "1.5.0",
      "_model_name": "FloatProgressModel",
      "_view_count": null,
      "_view_module": "@jupyter-widgets/controls",
      "_view_module_version": "1.5.0",
      "_view_name": "ProgressView",
      "bar_style": "success",
      "description": "",
      "description_tooltip": null,
      "layout": "IPY_MODEL_9d8dfd2e2bf34ca4947f42e60979e970",
      "max": 570,
      "min": 0,
      "orientation": "horizontal",
      "style": "IPY_MODEL_155d26790966411a9fcaa9cbb35d4314",
      "value": 570
     }
    },
    "7c38b1a7d57d401f99efbe4ad07b4750": {
     "model_module": "@jupyter-widgets/base",
     "model_module_version": "1.2.0",
     "model_name": "LayoutModel",
     "state": {
      "_model_module": "@jupyter-widgets/base",
      "_model_module_version": "1.2.0",
      "_model_name": "LayoutModel",
      "_view_count": null,
      "_view_module": "@jupyter-widgets/base",
      "_view_module_version": "1.2.0",
      "_view_name": "LayoutView",
      "align_content": null,
      "align_items": null,
      "align_self": null,
      "border": null,
      "bottom": null,
      "display": null,
      "flex": null,
      "flex_flow": null,
      "grid_area": null,
      "grid_auto_columns": null,
      "grid_auto_flow": null,
      "grid_auto_rows": null,
      "grid_column": null,
      "grid_gap": null,
      "grid_row": null,
      "grid_template_areas": null,
      "grid_template_columns": null,
      "grid_template_rows": null,
      "height": null,
      "justify_content": null,
      "justify_items": null,
      "left": null,
      "margin": null,
      "max_height": null,
      "max_width": null,
      "min_height": null,
      "min_width": null,
      "object_fit": null,
      "object_position": null,
      "order": null,
      "overflow": null,
      "overflow_x": null,
      "overflow_y": null,
      "padding": null,
      "right": null,
      "top": null,
      "visibility": null,
      "width": null
     }
    },
    "7cb7dc19a9754b0381197cb304bfffbd": {
     "model_module": "@jupyter-widgets/controls",
     "model_module_version": "1.5.0",
     "model_name": "FloatProgressModel",
     "state": {
      "_dom_classes": [],
      "_model_module": "@jupyter-widgets/controls",
      "_model_module_version": "1.5.0",
      "_model_name": "FloatProgressModel",
      "_view_count": null,
      "_view_module": "@jupyter-widgets/controls",
      "_view_module_version": "1.5.0",
      "_view_name": "ProgressView",
      "bar_style": "success",
      "description": "",
      "description_tooltip": null,
      "layout": "IPY_MODEL_34d44b879e7043cfb379a3500e28c3f5",
      "max": 231508,
      "min": 0,
      "orientation": "horizontal",
      "style": "IPY_MODEL_4db1706c2a374dd0981195bfa04b48f4",
      "value": 231508
     }
    },
    "87db2729d9634b6c8f55014de20f9689": {
     "model_module": "@jupyter-widgets/controls",
     "model_module_version": "1.5.0",
     "model_name": "ProgressStyleModel",
     "state": {
      "_model_module": "@jupyter-widgets/controls",
      "_model_module_version": "1.5.0",
      "_model_name": "ProgressStyleModel",
      "_view_count": null,
      "_view_module": "@jupyter-widgets/base",
      "_view_module_version": "1.2.0",
      "_view_name": "StyleView",
      "bar_color": null,
      "description_width": ""
     }
    },
    "8c37f79376b1495b8947b00840711d4f": {
     "model_module": "@jupyter-widgets/base",
     "model_module_version": "1.2.0",
     "model_name": "LayoutModel",
     "state": {
      "_model_module": "@jupyter-widgets/base",
      "_model_module_version": "1.2.0",
      "_model_name": "LayoutModel",
      "_view_count": null,
      "_view_module": "@jupyter-widgets/base",
      "_view_module_version": "1.2.0",
      "_view_name": "LayoutView",
      "align_content": null,
      "align_items": null,
      "align_self": null,
      "border": null,
      "bottom": null,
      "display": null,
      "flex": null,
      "flex_flow": null,
      "grid_area": null,
      "grid_auto_columns": null,
      "grid_auto_flow": null,
      "grid_auto_rows": null,
      "grid_column": null,
      "grid_gap": null,
      "grid_row": null,
      "grid_template_areas": null,
      "grid_template_columns": null,
      "grid_template_rows": null,
      "height": null,
      "justify_content": null,
      "justify_items": null,
      "left": null,
      "margin": null,
      "max_height": null,
      "max_width": null,
      "min_height": null,
      "min_width": null,
      "object_fit": null,
      "object_position": null,
      "order": null,
      "overflow": null,
      "overflow_x": null,
      "overflow_y": null,
      "padding": null,
      "right": null,
      "top": null,
      "visibility": null,
      "width": null
     }
    },
    "92d75148ae0a4dcfbcecb73adae05128": {
     "model_module": "@jupyter-widgets/base",
     "model_module_version": "1.2.0",
     "model_name": "LayoutModel",
     "state": {
      "_model_module": "@jupyter-widgets/base",
      "_model_module_version": "1.2.0",
      "_model_name": "LayoutModel",
      "_view_count": null,
      "_view_module": "@jupyter-widgets/base",
      "_view_module_version": "1.2.0",
      "_view_name": "LayoutView",
      "align_content": null,
      "align_items": null,
      "align_self": null,
      "border": null,
      "bottom": null,
      "display": null,
      "flex": null,
      "flex_flow": null,
      "grid_area": null,
      "grid_auto_columns": null,
      "grid_auto_flow": null,
      "grid_auto_rows": null,
      "grid_column": null,
      "grid_gap": null,
      "grid_row": null,
      "grid_template_areas": null,
      "grid_template_columns": null,
      "grid_template_rows": null,
      "height": null,
      "justify_content": null,
      "justify_items": null,
      "left": null,
      "margin": null,
      "max_height": null,
      "max_width": null,
      "min_height": null,
      "min_width": null,
      "object_fit": null,
      "object_position": null,
      "order": null,
      "overflow": null,
      "overflow_x": null,
      "overflow_y": null,
      "padding": null,
      "right": null,
      "top": null,
      "visibility": null,
      "width": null
     }
    },
    "9394fe92673941c08f47ae6b5d2d402c": {
     "model_module": "@jupyter-widgets/controls",
     "model_module_version": "1.5.0",
     "model_name": "HTMLModel",
     "state": {
      "_dom_classes": [],
      "_model_module": "@jupyter-widgets/controls",
      "_model_module_version": "1.5.0",
      "_model_name": "HTMLModel",
      "_view_count": null,
      "_view_module": "@jupyter-widgets/controls",
      "_view_module_version": "1.5.0",
      "_view_name": "HTMLView",
      "description": "",
      "description_tooltip": null,
      "layout": "IPY_MODEL_c157fddd6572470695f3da36657a0878",
      "placeholder": "​",
      "style": "IPY_MODEL_785358d955764182b94ee380d6f59013",
      "value": "Downloading: 100%"
     }
    },
    "94ced9f460bd4f8fbb7d67ce2078fb21": {
     "model_module": "@jupyter-widgets/controls",
     "model_module_version": "1.5.0",
     "model_name": "HTMLModel",
     "state": {
      "_dom_classes": [],
      "_model_module": "@jupyter-widgets/controls",
      "_model_module_version": "1.5.0",
      "_model_name": "HTMLModel",
      "_view_count": null,
      "_view_module": "@jupyter-widgets/controls",
      "_view_module_version": "1.5.0",
      "_view_name": "HTMLView",
      "description": "",
      "description_tooltip": null,
      "layout": "IPY_MODEL_a43ea4eaddec4d28869b3a075d24648a",
      "placeholder": "​",
      "style": "IPY_MODEL_c7b4fc834cf54650b4853da81e302459",
      "value": " 226k/226k [00:00&lt;00:00, 5.46MB/s]"
     }
    },
    "95b4f240453d4fdba6fdb345641e8c27": {
     "model_module": "@jupyter-widgets/base",
     "model_module_version": "1.2.0",
     "model_name": "LayoutModel",
     "state": {
      "_model_module": "@jupyter-widgets/base",
      "_model_module_version": "1.2.0",
      "_model_name": "LayoutModel",
      "_view_count": null,
      "_view_module": "@jupyter-widgets/base",
      "_view_module_version": "1.2.0",
      "_view_name": "LayoutView",
      "align_content": null,
      "align_items": null,
      "align_self": null,
      "border": null,
      "bottom": null,
      "display": null,
      "flex": null,
      "flex_flow": null,
      "grid_area": null,
      "grid_auto_columns": null,
      "grid_auto_flow": null,
      "grid_auto_rows": null,
      "grid_column": null,
      "grid_gap": null,
      "grid_row": null,
      "grid_template_areas": null,
      "grid_template_columns": null,
      "grid_template_rows": null,
      "height": null,
      "justify_content": null,
      "justify_items": null,
      "left": null,
      "margin": null,
      "max_height": null,
      "max_width": null,
      "min_height": null,
      "min_width": null,
      "object_fit": null,
      "object_position": null,
      "order": null,
      "overflow": null,
      "overflow_x": null,
      "overflow_y": null,
      "padding": null,
      "right": null,
      "top": null,
      "visibility": null,
      "width": null
     }
    },
    "95defc47523f46b5ac04076d0606cf09": {
     "model_module": "@jupyter-widgets/base",
     "model_module_version": "1.2.0",
     "model_name": "LayoutModel",
     "state": {
      "_model_module": "@jupyter-widgets/base",
      "_model_module_version": "1.2.0",
      "_model_name": "LayoutModel",
      "_view_count": null,
      "_view_module": "@jupyter-widgets/base",
      "_view_module_version": "1.2.0",
      "_view_name": "LayoutView",
      "align_content": null,
      "align_items": null,
      "align_self": null,
      "border": null,
      "bottom": null,
      "display": null,
      "flex": null,
      "flex_flow": null,
      "grid_area": null,
      "grid_auto_columns": null,
      "grid_auto_flow": null,
      "grid_auto_rows": null,
      "grid_column": null,
      "grid_gap": null,
      "grid_row": null,
      "grid_template_areas": null,
      "grid_template_columns": null,
      "grid_template_rows": null,
      "height": null,
      "justify_content": null,
      "justify_items": null,
      "left": null,
      "margin": null,
      "max_height": null,
      "max_width": null,
      "min_height": null,
      "min_width": null,
      "object_fit": null,
      "object_position": null,
      "order": null,
      "overflow": null,
      "overflow_x": null,
      "overflow_y": null,
      "padding": null,
      "right": null,
      "top": null,
      "visibility": null,
      "width": null
     }
    },
    "9ccaed0c33564a138157fb62b53f0e87": {
     "model_module": "@jupyter-widgets/controls",
     "model_module_version": "1.5.0",
     "model_name": "DescriptionStyleModel",
     "state": {
      "_model_module": "@jupyter-widgets/controls",
      "_model_module_version": "1.5.0",
      "_model_name": "DescriptionStyleModel",
      "_view_count": null,
      "_view_module": "@jupyter-widgets/base",
      "_view_module_version": "1.2.0",
      "_view_name": "StyleView",
      "description_width": ""
     }
    },
    "9d8dfd2e2bf34ca4947f42e60979e970": {
     "model_module": "@jupyter-widgets/base",
     "model_module_version": "1.2.0",
     "model_name": "LayoutModel",
     "state": {
      "_model_module": "@jupyter-widgets/base",
      "_model_module_version": "1.2.0",
      "_model_name": "LayoutModel",
      "_view_count": null,
      "_view_module": "@jupyter-widgets/base",
      "_view_module_version": "1.2.0",
      "_view_name": "LayoutView",
      "align_content": null,
      "align_items": null,
      "align_self": null,
      "border": null,
      "bottom": null,
      "display": null,
      "flex": null,
      "flex_flow": null,
      "grid_area": null,
      "grid_auto_columns": null,
      "grid_auto_flow": null,
      "grid_auto_rows": null,
      "grid_column": null,
      "grid_gap": null,
      "grid_row": null,
      "grid_template_areas": null,
      "grid_template_columns": null,
      "grid_template_rows": null,
      "height": null,
      "justify_content": null,
      "justify_items": null,
      "left": null,
      "margin": null,
      "max_height": null,
      "max_width": null,
      "min_height": null,
      "min_width": null,
      "object_fit": null,
      "object_position": null,
      "order": null,
      "overflow": null,
      "overflow_x": null,
      "overflow_y": null,
      "padding": null,
      "right": null,
      "top": null,
      "visibility": null,
      "width": null
     }
    },
    "a43ea4eaddec4d28869b3a075d24648a": {
     "model_module": "@jupyter-widgets/base",
     "model_module_version": "1.2.0",
     "model_name": "LayoutModel",
     "state": {
      "_model_module": "@jupyter-widgets/base",
      "_model_module_version": "1.2.0",
      "_model_name": "LayoutModel",
      "_view_count": null,
      "_view_module": "@jupyter-widgets/base",
      "_view_module_version": "1.2.0",
      "_view_name": "LayoutView",
      "align_content": null,
      "align_items": null,
      "align_self": null,
      "border": null,
      "bottom": null,
      "display": null,
      "flex": null,
      "flex_flow": null,
      "grid_area": null,
      "grid_auto_columns": null,
      "grid_auto_flow": null,
      "grid_auto_rows": null,
      "grid_column": null,
      "grid_gap": null,
      "grid_row": null,
      "grid_template_areas": null,
      "grid_template_columns": null,
      "grid_template_rows": null,
      "height": null,
      "justify_content": null,
      "justify_items": null,
      "left": null,
      "margin": null,
      "max_height": null,
      "max_width": null,
      "min_height": null,
      "min_width": null,
      "object_fit": null,
      "object_position": null,
      "order": null,
      "overflow": null,
      "overflow_x": null,
      "overflow_y": null,
      "padding": null,
      "right": null,
      "top": null,
      "visibility": null,
      "width": null
     }
    },
    "ac5447245a104b84bee7842edb48f020": {
     "model_module": "@jupyter-widgets/controls",
     "model_module_version": "1.5.0",
     "model_name": "HTMLModel",
     "state": {
      "_dom_classes": [],
      "_model_module": "@jupyter-widgets/controls",
      "_model_module_version": "1.5.0",
      "_model_name": "HTMLModel",
      "_view_count": null,
      "_view_module": "@jupyter-widgets/controls",
      "_view_module_version": "1.5.0",
      "_view_name": "HTMLView",
      "description": "",
      "description_tooltip": null,
      "layout": "IPY_MODEL_7c38b1a7d57d401f99efbe4ad07b4750",
      "placeholder": "​",
      "style": "IPY_MODEL_9ccaed0c33564a138157fb62b53f0e87",
      "value": "Downloading: 100%"
     }
    },
    "c157fddd6572470695f3da36657a0878": {
     "model_module": "@jupyter-widgets/base",
     "model_module_version": "1.2.0",
     "model_name": "LayoutModel",
     "state": {
      "_model_module": "@jupyter-widgets/base",
      "_model_module_version": "1.2.0",
      "_model_name": "LayoutModel",
      "_view_count": null,
      "_view_module": "@jupyter-widgets/base",
      "_view_module_version": "1.2.0",
      "_view_name": "LayoutView",
      "align_content": null,
      "align_items": null,
      "align_self": null,
      "border": null,
      "bottom": null,
      "display": null,
      "flex": null,
      "flex_flow": null,
      "grid_area": null,
      "grid_auto_columns": null,
      "grid_auto_flow": null,
      "grid_auto_rows": null,
      "grid_column": null,
      "grid_gap": null,
      "grid_row": null,
      "grid_template_areas": null,
      "grid_template_columns": null,
      "grid_template_rows": null,
      "height": null,
      "justify_content": null,
      "justify_items": null,
      "left": null,
      "margin": null,
      "max_height": null,
      "max_width": null,
      "min_height": null,
      "min_width": null,
      "object_fit": null,
      "object_position": null,
      "order": null,
      "overflow": null,
      "overflow_x": null,
      "overflow_y": null,
      "padding": null,
      "right": null,
      "top": null,
      "visibility": null,
      "width": null
     }
    },
    "c5b7bf8433c14f4e80f657fb20f3e956": {
     "model_module": "@jupyter-widgets/controls",
     "model_module_version": "1.5.0",
     "model_name": "HBoxModel",
     "state": {
      "_dom_classes": [],
      "_model_module": "@jupyter-widgets/controls",
      "_model_module_version": "1.5.0",
      "_model_name": "HBoxModel",
      "_view_count": null,
      "_view_module": "@jupyter-widgets/controls",
      "_view_module_version": "1.5.0",
      "_view_name": "HBoxView",
      "box_style": "",
      "children": [
       "IPY_MODEL_f2356eff1d974c3caf3a71ed26e50f3d",
       "IPY_MODEL_7cb7dc19a9754b0381197cb304bfffbd",
       "IPY_MODEL_94ced9f460bd4f8fbb7d67ce2078fb21"
      ],
      "layout": "IPY_MODEL_7403636acbda4d7e8b96236f2056d268"
     }
    },
    "c7b4fc834cf54650b4853da81e302459": {
     "model_module": "@jupyter-widgets/controls",
     "model_module_version": "1.5.0",
     "model_name": "DescriptionStyleModel",
     "state": {
      "_model_module": "@jupyter-widgets/controls",
      "_model_module_version": "1.5.0",
      "_model_name": "DescriptionStyleModel",
      "_view_count": null,
      "_view_module": "@jupyter-widgets/base",
      "_view_module_version": "1.2.0",
      "_view_name": "StyleView",
      "description_width": ""
     }
    },
    "cc596c9c9ebc4ac0ae1f656e668bd8c3": {
     "model_module": "@jupyter-widgets/controls",
     "model_module_version": "1.5.0",
     "model_name": "HTMLModel",
     "state": {
      "_dom_classes": [],
      "_model_module": "@jupyter-widgets/controls",
      "_model_module_version": "1.5.0",
      "_model_name": "HTMLModel",
      "_view_count": null,
      "_view_module": "@jupyter-widgets/controls",
      "_view_module_version": "1.5.0",
      "_view_name": "HTMLView",
      "description": "",
      "description_tooltip": null,
      "layout": "IPY_MODEL_660b51698ea548948dd64c4ab3ba38dc",
      "placeholder": "​",
      "style": "IPY_MODEL_3779800a54e4475ab6aa7b1497b9be3d",
      "value": " 28.0/28.0 [00:00&lt;00:00, 838B/s]"
     }
    },
    "cf8508c9f5d6495dbdda2b992e858b1f": {
     "model_module": "@jupyter-widgets/controls",
     "model_module_version": "1.5.0",
     "model_name": "HBoxModel",
     "state": {
      "_dom_classes": [],
      "_model_module": "@jupyter-widgets/controls",
      "_model_module_version": "1.5.0",
      "_model_name": "HBoxModel",
      "_view_count": null,
      "_view_module": "@jupyter-widgets/controls",
      "_view_module_version": "1.5.0",
      "_view_name": "HBoxView",
      "box_style": "",
      "children": [
       "IPY_MODEL_9394fe92673941c08f47ae6b5d2d402c",
       "IPY_MODEL_39f3eb2b0a7b47878a4cd7a3c1ffdb25",
       "IPY_MODEL_cc596c9c9ebc4ac0ae1f656e668bd8c3"
      ],
      "layout": "IPY_MODEL_3e9994f7e38f4ecca9e5097c9b2caae0"
     }
    },
    "e0be00e0f45449febb0f261693350126": {
     "model_module": "@jupyter-widgets/base",
     "model_module_version": "1.2.0",
     "model_name": "LayoutModel",
     "state": {
      "_model_module": "@jupyter-widgets/base",
      "_model_module_version": "1.2.0",
      "_model_name": "LayoutModel",
      "_view_count": null,
      "_view_module": "@jupyter-widgets/base",
      "_view_module_version": "1.2.0",
      "_view_name": "LayoutView",
      "align_content": null,
      "align_items": null,
      "align_self": null,
      "border": null,
      "bottom": null,
      "display": null,
      "flex": null,
      "flex_flow": null,
      "grid_area": null,
      "grid_auto_columns": null,
      "grid_auto_flow": null,
      "grid_auto_rows": null,
      "grid_column": null,
      "grid_gap": null,
      "grid_row": null,
      "grid_template_areas": null,
      "grid_template_columns": null,
      "grid_template_rows": null,
      "height": null,
      "justify_content": null,
      "justify_items": null,
      "left": null,
      "margin": null,
      "max_height": null,
      "max_width": null,
      "min_height": null,
      "min_width": null,
      "object_fit": null,
      "object_position": null,
      "order": null,
      "overflow": null,
      "overflow_x": null,
      "overflow_y": null,
      "padding": null,
      "right": null,
      "top": null,
      "visibility": null,
      "width": null
     }
    },
    "e96eb6a10856440085cc09deff0e2001": {
     "model_module": "@jupyter-widgets/controls",
     "model_module_version": "1.5.0",
     "model_name": "HBoxModel",
     "state": {
      "_dom_classes": [],
      "_model_module": "@jupyter-widgets/controls",
      "_model_module_version": "1.5.0",
      "_model_name": "HBoxModel",
      "_view_count": null,
      "_view_module": "@jupyter-widgets/controls",
      "_view_module_version": "1.5.0",
      "_view_name": "HBoxView",
      "box_style": "",
      "children": [
       "IPY_MODEL_103232a330084058a4615595c7ff0bdf",
       "IPY_MODEL_7be39a565a874692828aab2e71a7fed0",
       "IPY_MODEL_6cba0fe9fb4642eaa40ca612cddbf112"
      ],
      "layout": "IPY_MODEL_95b4f240453d4fdba6fdb345641e8c27"
     }
    },
    "f2356eff1d974c3caf3a71ed26e50f3d": {
     "model_module": "@jupyter-widgets/controls",
     "model_module_version": "1.5.0",
     "model_name": "HTMLModel",
     "state": {
      "_dom_classes": [],
      "_model_module": "@jupyter-widgets/controls",
      "_model_module_version": "1.5.0",
      "_model_name": "HTMLModel",
      "_view_count": null,
      "_view_module": "@jupyter-widgets/controls",
      "_view_module_version": "1.5.0",
      "_view_name": "HTMLView",
      "description": "",
      "description_tooltip": null,
      "layout": "IPY_MODEL_95defc47523f46b5ac04076d0606cf09",
      "placeholder": "​",
      "style": "IPY_MODEL_715725cbb4e44f38ab37a922b444d3c5",
      "value": "Downloading: 100%"
     }
    },
    "f308c79fc8304dcd90db1caf54c72921": {
     "model_module": "@jupyter-widgets/base",
     "model_module_version": "1.2.0",
     "model_name": "LayoutModel",
     "state": {
      "_model_module": "@jupyter-widgets/base",
      "_model_module_version": "1.2.0",
      "_model_name": "LayoutModel",
      "_view_count": null,
      "_view_module": "@jupyter-widgets/base",
      "_view_module_version": "1.2.0",
      "_view_name": "LayoutView",
      "align_content": null,
      "align_items": null,
      "align_self": null,
      "border": null,
      "bottom": null,
      "display": null,
      "flex": null,
      "flex_flow": null,
      "grid_area": null,
      "grid_auto_columns": null,
      "grid_auto_flow": null,
      "grid_auto_rows": null,
      "grid_column": null,
      "grid_gap": null,
      "grid_row": null,
      "grid_template_areas": null,
      "grid_template_columns": null,
      "grid_template_rows": null,
      "height": null,
      "justify_content": null,
      "justify_items": null,
      "left": null,
      "margin": null,
      "max_height": null,
      "max_width": null,
      "min_height": null,
      "min_width": null,
      "object_fit": null,
      "object_position": null,
      "order": null,
      "overflow": null,
      "overflow_x": null,
      "overflow_y": null,
      "padding": null,
      "right": null,
      "top": null,
      "visibility": null,
      "width": null
     }
    },
    "f9d3e5db784d459da7ab21c364e12c88": {
     "model_module": "@jupyter-widgets/controls",
     "model_module_version": "1.5.0",
     "model_name": "HTMLModel",
     "state": {
      "_dom_classes": [],
      "_model_module": "@jupyter-widgets/controls",
      "_model_module_version": "1.5.0",
      "_model_name": "HTMLModel",
      "_view_count": null,
      "_view_module": "@jupyter-widgets/controls",
      "_view_module_version": "1.5.0",
      "_view_name": "HTMLView",
      "description": "",
      "description_tooltip": null,
      "layout": "IPY_MODEL_1efdfa2557ac4404b257760215bc8631",
      "placeholder": "​",
      "style": "IPY_MODEL_34568611347c47e8b68d30a818809b8e",
      "value": " 455k/455k [00:00&lt;00:00, 2.11MB/s]"
     }
    }
   }
  }
 },
 "nbformat": 4,
 "nbformat_minor": 1
}
